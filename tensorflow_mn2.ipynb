{
  "nbformat": 4,
  "nbformat_minor": 0,
  "metadata": {
    "colab": {
      "provenance": [],
      "gpuType": "T4",
      "authorship_tag": "ABX9TyNQrU7SBQpvvutpDOCQJyj/",
      "include_colab_link": true
    },
    "kernelspec": {
      "name": "python3",
      "display_name": "Python 3"
    },
    "language_info": {
      "name": "python"
    },
    "accelerator": "GPU"
  },
  "cells": [
    {
      "cell_type": "markdown",
      "metadata": {
        "id": "view-in-github",
        "colab_type": "text"
      },
      "source": [
        "<a href=\"https://colab.research.google.com/github/PhilanthropiCat/PiCa/blob/main/tensorflow_mn2.ipynb\" target=\"_parent\"><img src=\"https://colab.research.google.com/assets/colab-badge.svg\" alt=\"Open In Colab\"/></a>"
      ]
    },
    {
      "cell_type": "code",
      "execution_count": 1,
      "metadata": {
        "id": "NDKogAHriJgB"
      },
      "outputs": [],
      "source": [
        "#Imports\n",
        "import tensorflow as tf\n",
        "import tensorflow.keras as keras\n",
        "import tensorflow.keras.layers as layers\n",
        "import tensorflow.keras.datasets as datasets\n",
        "import numpy as np"
      ]
    },
    {
      "cell_type": "code",
      "source": [
        "#Device\n",
        "tf.config.list_physical_devices()"
      ],
      "metadata": {
        "colab": {
          "base_uri": "https://localhost:8080/"
        },
        "id": "kD7S3i9xiW3C",
        "outputId": "1a63d610-8c0f-4c10-a173-b825949b73be"
      },
      "execution_count": 2,
      "outputs": [
        {
          "output_type": "execute_result",
          "data": {
            "text/plain": [
              "[PhysicalDevice(name='/physical_device:CPU:0', device_type='CPU'),\n",
              " PhysicalDevice(name='/physical_device:GPU:0', device_type='GPU')]"
            ]
          },
          "metadata": {},
          "execution_count": 2
        }
      ]
    },
    {
      "cell_type": "code",
      "source": [
        "#Bottleneck\n",
        "class Bottleneck(layers.Layer):\n",
        "  def __init__(self,input_channels,output_channels,factor,stride):\n",
        "    super(Bottleneck,self).__init__()\n",
        "    self.conv1 = layers.Conv2D(factor*input_channels,kernel_size=(1,1))\n",
        "    self.dwconv1 = layers.DepthwiseConv2D(kernel_size=(3,3),strides=stride,padding=\"same\")\n",
        "    self.conv2 = layers.Conv2D(output_channels,kernel_size=(1,1))\n",
        "\n",
        "\n",
        "\n",
        "  def call(self,x):\n",
        "    residual = x\n",
        "    x = self.conv1(x)\n",
        "    x = tf.nn.relu6(x)\n",
        "    x = self.dwconv1(x)\n",
        "    x = tf.nn.relu6(x)\n",
        "    x = self.conv2(x)\n",
        "\n",
        "    return x\n",
        "\n"
      ],
      "metadata": {
        "id": "05WTxZAwiyGx"
      },
      "execution_count": 3,
      "outputs": []
    },
    {
      "cell_type": "code",
      "source": [
        "#MobileNetV2\n",
        "class MobileNetV2(keras.Model):\n",
        "  def __init__(self,num_classes=10):\n",
        "    super(MobileNetV2,self).__init__()\n",
        "    self.resize = layers.Resizing(224,224)\n",
        "    self.conv1 = keras.Sequential([\n",
        "        layers.Conv2D(32,kernel_size=(3,3),strides=2,padding=\"same\",activation=\"relu\"),\n",
        "        layers.BatchNormalization()\n",
        "    ])\n",
        "    self.bottleneck1 = Bottleneck(32,16,1,1)\n",
        "    self.bottleneck2 = Bottleneck(16,24,6,2)\n",
        "    self.bottleneck3 = Bottleneck(24,32,6,2)\n",
        "    self.bottleneck4 = Bottleneck(32,64,6,2)\n",
        "    self.bottleneck5 = Bottleneck(64,96,6,1)\n",
        "    self.bottleneck6 = Bottleneck(96,160,6,2)\n",
        "    self.bottleneck7 = Bottleneck(160,320,6,1)\n",
        "    self.conv2 = keras.Sequential([\n",
        "        layers.Conv2D(1280,kernel_size=(1,1),activation=\"relu\"),\n",
        "        layers.BatchNormalization()\n",
        "    ])\n",
        "    self.avgpool = layers.AveragePooling2D(pool_size=(7,7))\n",
        "    self.flatten = layers.Flatten()\n",
        "    self.dense = layers.Dense(num_classes)\n",
        "\n",
        "  def call(self,x):\n",
        "    x = self.resize(x)\n",
        "    x = self.conv1(x)\n",
        "    x = self.bottleneck1(x)\n",
        "    x = self.bottleneck2(x)\n",
        "    x = self.bottleneck3(x)\n",
        "    x = self.bottleneck4(x)\n",
        "    x = self.bottleneck5(x)\n",
        "    x = self.bottleneck6(x)\n",
        "    x = self.bottleneck7(x)\n",
        "    x = self.conv2(x)\n",
        "    x = self.avgpool(x)\n",
        "    x = self.flatten(x)\n",
        "    x = self.dense(x)\n",
        "    return x"
      ],
      "metadata": {
        "id": "8bndRcaak1ku"
      },
      "execution_count": 4,
      "outputs": []
    },
    {
      "cell_type": "code",
      "source": [
        "#Data\n",
        "(x_train,y_train),(x_test,y_test) = datasets.cifar10.load_data()"
      ],
      "metadata": {
        "id": "KfjtHRLXlkZK"
      },
      "execution_count": 5,
      "outputs": []
    },
    {
      "cell_type": "code",
      "source": [
        "#Compiling model\n",
        "model = MobileNetV2()\n",
        "model.compile(\n",
        "    optimizer = keras.optimizers.Adam(0.001),\n",
        "    loss = keras.losses.SparseCategoricalCrossentropy(from_logits=True),\n",
        "    metrics=[\"acc\"]\n",
        ")"
      ],
      "metadata": {
        "id": "Q9j7Ir_9q2KS"
      },
      "execution_count": 6,
      "outputs": []
    },
    {
      "cell_type": "code",
      "source": [
        "#Training Model\n",
        "model.fit(x_train,y_train,epochs=20,batch_size=64)"
      ],
      "metadata": {
        "colab": {
          "base_uri": "https://localhost:8080/"
        },
        "id": "0kUMBCrtrGbo",
        "outputId": "02b0bd39-8b84-4dc7-d181-332ff90c6b99"
      },
      "execution_count": 7,
      "outputs": [
        {
          "output_type": "stream",
          "name": "stdout",
          "text": [
            "Epoch 1/20\n",
            "782/782 [==============================] - 106s 115ms/step - loss: 2.3036 - acc: 0.1010\n",
            "Epoch 2/20\n",
            "782/782 [==============================] - 89s 113ms/step - loss: 2.3031 - acc: 0.0983\n",
            "Epoch 3/20\n",
            "782/782 [==============================] - 88s 113ms/step - loss: 2.1241 - acc: 0.1633\n",
            "Epoch 4/20\n",
            "782/782 [==============================] - 88s 113ms/step - loss: 1.8637 - acc: 0.2361\n",
            "Epoch 5/20\n",
            "782/782 [==============================] - 88s 112ms/step - loss: 1.6443 - acc: 0.3646\n",
            "Epoch 6/20\n",
            "782/782 [==============================] - 88s 113ms/step - loss: 1.5173 - acc: 0.4285\n",
            "Epoch 7/20\n",
            "782/782 [==============================] - 88s 113ms/step - loss: 1.4285 - acc: 0.4720\n",
            "Epoch 8/20\n",
            "782/782 [==============================] - 88s 113ms/step - loss: 1.3484 - acc: 0.5080\n",
            "Epoch 9/20\n",
            "782/782 [==============================] - 88s 113ms/step - loss: 1.2645 - acc: 0.5451\n",
            "Epoch 10/20\n",
            "782/782 [==============================] - 88s 113ms/step - loss: 1.1974 - acc: 0.5715\n",
            "Epoch 11/20\n",
            "782/782 [==============================] - 88s 113ms/step - loss: 1.1449 - acc: 0.5935\n",
            "Epoch 12/20\n",
            "782/782 [==============================] - 88s 113ms/step - loss: 1.0990 - acc: 0.6094\n",
            "Epoch 13/20\n",
            "782/782 [==============================] - 88s 113ms/step - loss: 1.0508 - acc: 0.6267\n",
            "Epoch 14/20\n",
            "782/782 [==============================] - 88s 113ms/step - loss: 1.0124 - acc: 0.6407\n",
            "Epoch 15/20\n",
            "782/782 [==============================] - 88s 113ms/step - loss: 0.9748 - acc: 0.6560\n",
            "Epoch 16/20\n",
            "782/782 [==============================] - 88s 113ms/step - loss: 0.9447 - acc: 0.6647\n",
            "Epoch 17/20\n",
            "782/782 [==============================] - 88s 113ms/step - loss: 0.9153 - acc: 0.6775\n",
            "Epoch 18/20\n",
            "782/782 [==============================] - 88s 113ms/step - loss: 0.9022 - acc: 0.6836\n",
            "Epoch 19/20\n",
            "782/782 [==============================] - 88s 113ms/step - loss: 0.8745 - acc: 0.6904\n",
            "Epoch 20/20\n",
            "782/782 [==============================] - 88s 113ms/step - loss: 0.8527 - acc: 0.6967\n"
          ]
        },
        {
          "output_type": "execute_result",
          "data": {
            "text/plain": [
              "<keras.callbacks.History at 0x7a5055148e80>"
            ]
          },
          "metadata": {},
          "execution_count": 7
        }
      ]
    },
    {
      "cell_type": "code",
      "source": [
        "#Evaluating Model\n",
        "loss,acc = model.evaluate(x_test,y_test)\n",
        "print(f\"Loss:{loss}, Accuracy:{round(acc*100)}%\")"
      ],
      "metadata": {
        "colab": {
          "base_uri": "https://localhost:8080/"
        },
        "id": "rRNM8-61rL21",
        "outputId": "e547d70b-6fd6-444e-ebdc-5767f653b63c"
      },
      "execution_count": 8,
      "outputs": [
        {
          "output_type": "stream",
          "name": "stdout",
          "text": [
            "313/313 [==============================] - 7s 21ms/step - loss: 1.5959 - acc: 0.5121\n",
            "Loss:1.5959330797195435, Accuracy:51%\n"
          ]
        }
      ]
    }
  ]
}